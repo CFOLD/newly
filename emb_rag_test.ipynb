{
 "cells": [
  {
   "cell_type": "code",
   "execution_count": 6,
   "metadata": {},
   "outputs": [
    {
     "name": "stdout",
     "output_type": "stream",
     "text": [
      "\n",
      "\u001b[1m[\u001b[0m\u001b[34;49mnotice\u001b[0m\u001b[1;39;49m]\u001b[0m\u001b[39;49m A new release of pip is available: \u001b[0m\u001b[31;49m23.2.1\u001b[0m\u001b[39;49m -> \u001b[0m\u001b[32;49m24.0\u001b[0m\n",
      "\u001b[1m[\u001b[0m\u001b[34;49mnotice\u001b[0m\u001b[1;39;49m]\u001b[0m\u001b[39;49m To update, run: \u001b[0m\u001b[32;49mpython3.11 -m pip install --upgrade pip\u001b[0m\n"
     ]
    }
   ],
   "source": [
    "! pip3 install -qU  markdownify  langchain-upstage rank_bm25 langchain-text-splitters langchain_chroma"
   ]
  },
  {
   "cell_type": "code",
   "execution_count": 7,
   "metadata": {},
   "outputs": [
    {
     "name": "stdout",
     "output_type": "stream",
     "text": [
      "The dotenv extension is already loaded. To reload it, use:\n",
      "  %reload_ext dotenv\n"
     ]
    }
   ],
   "source": [
    "\n",
    "%load_ext dotenv\n",
    "%dotenv\n",
    "# UPSTAGE_API_KEY"
   ]
  },
  {
   "cell_type": "code",
   "execution_count": 8,
   "metadata": {},
   "outputs": [],
   "source": [
    "import warnings\n",
    "\n",
    "warnings.filterwarnings(\"ignore\")"
   ]
  },
  {
   "cell_type": "code",
   "execution_count": 14,
   "metadata": {},
   "outputs": [
    {
     "name": "stdout",
     "output_type": "stream",
     "text": [
      "docs:  [Document(page_content='빚투 ( < > me-too)\\n-핵인싸 ( < > insider)\\n-쓰앵님 -인싸템 (< > insider item)\\n-나나랜드 ( < >land)\\n-토착 왜구 ( )인싸력 (< > insider )\\n-필환경 ( )\\n-덕력 만렙 ( < > level)영혼 보내기 ( )밀레니얼 가족 (< >millennial )덕질 메이트 ( < >mate)세포마켓 ( < >market)\\n-소확횡 ( ) ː ː펀슈머 (< > fun consumer)\\n-약투 ( < > me-too)\\n-인싸 춤 (< > insider )내시피 ( < > recipe)얼죽아 ( < > ice)워커밸 (< > worker-customer balance)대확행 ( ) ː스타일테크 (< >style tech)\\n^트래시 태그 (< >trash tag)스앵님 -베이핑 룸 (< >vaping room)스피드팩토어 (< >speed factore)\\n^카멜레존 (< > chameleon zone)\\n-피미 ( ) ː나나랜더 ( < >lander)자만추 ( )빈트로 (< >vintro)행덕 ( ) ː ː홈코노미 (< > home economy)\\n-핵인싸템 ( < > insider item)\\n-키캉스 (< > kid< > vacance)갑분굿 ( < >good)파이어족 (< >FIRE )\\n-감정 대리인 ( )줍줍족 ( ) ː ː\\n-인싸 용어 (< > insider )만반잘부 ( )슬로벌라이제이션 (< >slowbalisation)팔로인 (< > follow )\\n-핵아싸 ( < > outsider)\\n-홈디족 (< >home dessert )\\n-파이세대 (< >PIE )\\n^거래 증진비 ( )피미 여행 ( )살찐고양이조례 ( )\\n^ ^슈퍼블러드울프문 (< >super blood wolf moon)\\n^ ^ ^인싸 실버 (< > insider silver)크캉스 (< > cruise< > vacance)얼씨룩 (< >earthy look)\\n^그럴싸 ( < > insider)\\n-무정찰제 ( )\\n-생리 빈곤 ( )엠제트세대 (< >MZ )\\n^공홈족 ( < > homepage )\\n-셀플루언서 (< > self influencer)접견 피싱 ( < >phishing)마이싸이더 (< > my insider)\\n-하비슈머 (< > hobby consumer)\\n-호모 더스트쿠스 (< > Homo< >dust< > pithecus )공투 ( < > me-too)취가 ( ) ː봄캉스 ( < > vacance)\\n-솔싸 (< > solo insider)편디족 ( < > dessert )\\n-훔친 수저성장우위국 ( )\\n^소프트패션 (< >soft fashion)\\n^숲캉스 ( < > vacance)\\n-혼명족 ( )\\n-풀여비 (< >pool )\\n-호떡 보트 ( < >boat)등용곡 ( )\\n-수평어 ( )\\n-어른이보험 ( )\\n^자해계 ( )\\n-꽃캉스 ( < > vacance)\\n-라쿤카페금지법 (< >raccoon< >café )\\n^ ^비거노믹스 (< >veganomics)혈중 마라 농도 ( < >mala[ ] )학투 ( < > me-too)가취관 ( )놀세권 ( )\\n-다크 넛지 (< >dark nudge)실감세대 ( )\\n^줍줍 현상 ( )꿀잠템 ( < > item)\\n-나심비족 ( )\\n-댈입 ( )디졸브 노동 (< >dissolve )소피커 ( < > speaker)전시노무동원피해자 ( )\\n^ ^ ^학폭투 ( < > me-too)\\n-뉴능 (< > news )매완얼 ( )반프리 ( < > free-lancer)\\n-빚투 운동 ( < > me-too )타맥 딜레이 (< >tarmac delay)프로 통학러 (< > professional < > er)노 시니어 존 (< > no senior zone)찐우정 ( )\\n-호모 여의도쿠스 (< >Homo < > pithecus)노멀크러시족 (< >normal crush )\\n-실업부조법 ( )\\n^썸만추 (< > something )유캉스 ( < > vacance)아만추 ( ) ː화이트 사업자 (< >white )덕심일체 ( )\\n-먹튀 진료 ( )인만추 ( )라돈 대리석 (< >radon )맛세권 ( )\\n-수소차육성법 ( )\\n^ ^웜박스 (< >warm box)\\n-콘셉러 (< > concepter)파잘알 (< > pasta )피뽑탈 ( )러라밸 (< > love-life balance)스위치분자 (< >switch )\\n^낯설렘선개팅 ( < > meeting)\\n-오피스 빌런 (< >office villain)마싸 (< > my insider)바이토 테러 (< > Arubaito< >terror)비타민 베이퍼 (< >vitamin vapor)셀피의 법칙 (< > self happy )제트주사 (< >jet )\\n^좀비 사슴병 (< >zombie )퇴튜던트 ( < > student)헬린이 (< > health )나이트 루틴 (< >night routine)맘플루언서 (< >mom influencer)\\n-배배당당 - ː셀카력 (< > self camera )\\n-에코 플랜테리어 (< > eco plant interior)편샐족 ( < > salad )\\n-갑분띠 ( )나그니처 ( < > signature)\\n-내시피족 ( < > recipe )\\n-됐추럴 ( < > natural)\\n-또티지 ( < > vintage)\\n-오놀아놈웰빙 다선 (< >well-being )트럭 기소 (< >truck )한류 호미 ( )혼라이프 ( < >life)\\n-마세권 (< > mala[ ] )\\n-면까몰 ( )오유주 ( < > universe )\\n-오탈제 ( ) ː\\n-츤도쿠 (< >tsundoku[ ])포서드족 (< >four third )\\n-하우스 디바이드 (< >house divide)돼지력 ( ) ː ː\\n-피미족 ( ) ː ː\\n-노 오더족 (< >no order )덕메 ( < > mate)머쓱타드 ( < > mustard)뮤캉스 (< > musical< > vacance)차박 텐트 ( < >tent)컴포터리안 (< > comfortable ian)내각패싱 ( < >passing)\\n^담뱃불시험법 ( )\\n^덕지 순례 ( )맘부 격차 (< >mom )머라밸 (< > money-life balance)복붙 법안 ( )설참 ( )카페식 (< >café )\\n-팡인 ( )팬조어 (< >fan )\\n-근육 패딩 ( < >padding)마라 위크 (< > mala[ ]< >week)어캉스 ( < > vacance)얼죽코 ( < > coat)자취템 ( < > item)\\n-제베리아 ( Siberia)제설기부모 ( )\\n^캣 택스 (< >cat tax)테크니큐리언 (< >technicurean)노 포토 존 (< >no photo zone)완깐 ( )\\n-요가 링 (< >yoga< >ring)주사 난민 ( )풀캉스 (< > pool< > vacance)\\n-고관절 감기 ( )덕후템 ( < > item)\\n-몸또 ( < > Lotto)\\n-반깐머리 ( ) ː\\n-서우디 ( Saudi Arabia)오렌지영 (< >orange young)\\n-유관순서훈승격특별법 ( )\\n^ ^ ^존모 ( < > mode)톤궁예 (< >tone )\\n-퇴사짤 ( ) ː ː\\n-패션 자해 (< >fashion )한다요체 ( )\\n-거거익선 ( )군세권 ( )\\n-귀족턱 ( ) ː ː\\n-껑충타법 ( )\\n^냉트리피케이션 ( < > gentrification)\\n-대끝치 ( < > chicken)돌민정음 (< > idol )런스타 (< > run star)\\n-맵찔이 -미먼 ( )윰차 ( )이못싸검은낫부리극락조 ( )\\n-남사직 ( )넵무새 ( )\\n-다꾸러 (< > diary < > er)\\n-베이핑 카페 (< >vaping< >café)변시 평생 응시 금지제 ( )불일치질환 ( )\\n^사물 높임 ( )서캉스 ( < > vacance)스텔스 자라니족 (< >stealth )신남방벨트 ( < >belt)\\n^영혼 음식 ( )치치딱 -히든펌 (< > hidden perm)\\n^갑분교 ( )댕냥이 -마덕 (< > mala[ ] )멜림 (< > mail Olympics)모캉스 (< > motel< > vacance)묘르신 ( )\\n-무나니스트 ( < > ist)무전 재난 ( )믿거 -믿쓰템 ( < > item)\\n-복면웨어 ( < >wear)\\n^불확행 ( )세대 형평론 ( )손가락 여행족 ( )숨소밍 ( < > streaming)실버 인싸 (< > silver insider)얼공 ( )요도족 (< >YODO )\\n-임신 하청 ( )죄조 기술 ( )찍결세대 ( )\\n^찐사랑 ( )\\n-투알못 ( )트래시 태그 운동 (< >trash tag )품앗이 등재 ( )피성안 ( )감아오기 -공능제 ( < > zero)공송장 ( )\\n-댓림 ( < > olympics)레파족 (< > LEPA )\\n-리듀스테리언 (< >reducetarian)몰인원 (< > mall all in one)붕세권 ( ) ː\\n-소만행 ( ) ː스케테인먼트 (< > skate entertainment)싱글템 (< > single item)\\n-옴뇸뇸월급 텅장 ( )의식하개두술 ( )\\n^임밍아웃 ( < > coming-out)적일많버찐친 ( )책캉스 ( < > vacance)\\n-최적화 카페 ( < >café)캣피싱 (< >catfishing)턱부심 ( )\\n-피크니케이션 (< > picnic staycation)핀테크혁신법 (< >fintech )\\n^할스타 ( < >star)\\n-고고단 ( )군 스펙 ( < >spec)깡통 코인 ( < >coin)녹투 ( < > me-too)놀앎러 ( < > er)\\n-도둑 환자 ( )리트 투어 (< >LEET tour)맡캉스 (< > mart< > vacance)몰코노미 (< > mall economy)\\n-몸 캠 낚시 ( < >cam )미포족 ( )\\n-상권 역전 ( )생존 가전 ( )서점 민폐족 ( )섬캉스 ( < > vacance)\\n-스타트업 로펌 (< >startup law firm)스텔스 차선 (< >stealth )쓸고 라면 ( < > râmen)어결치 ( < > chicken)어버이주의 ( )\\n-자부 타임 ( < >time)중싸 ( < > insider)\\n-특가템 ( < > item)\\n-혼카족 ( < > café )\\n-혼코노족 ( < > coin )\\n-개강병 ( )\\n-경제주도개념 ( )\\n^ ^교과충 ( ) ː ː\\n-구미 소비 ( < >me )돈알못 ː ː맵덕후 -몰들이 (< >mall )\\n-무전 무업 ( )밀저트 (< > meal dessert)\\n-배니티플레이트 (< >vanity plate)\\n^벌크머니 (< >bulk money)\\n^빵타 ( < > time)\\n-삼신가전 ( )\\n-상자깡 ( )\\n-소생소사 ( ) ː숨밍 ( < > streaming)\\n-숨스 ( < > streaming)\\n-신경미세사 ( )\\n^실버 돌싱 (< >silver single)아파트 줍줍족 (< > apartment )언더패널카메라 (< >under panel camera)\\n^ ^연반인 ( ) ː\\n-인싸어 (< > insider )\\n-주투야압 ( )주휴수당쇼크 ( < >shock)\\n^ ^초인싸 ( < > insider)\\n-커세권 (< > coffee )\\n-코딩력 (< >coding )\\n-탄수화물 파티 ( < >party)탈덕 러시 ( < >rush)펑키볼 (< >funky ball)\\n-폰라니 (< > smart phone )\\n-푼테크족 ( < >tech )\\n-프로 사망러 (< > professional < > er)피미 여행지 ( )피티 헌팅 (< >PT hunting)혼족템 ( < > item)\\n-홈소싱족 (< >home sourcing )\\n-보배 ( < > battery)피엠아이 (< > PMI)', metadata={'total_pages': 69, 'type': 'text', 'split': 'none'})]\n"
     ]
    }
   ],
   "source": [
    "from langchain_upstage import UpstageLayoutAnalysisLoader\n",
    "\n",
    "\n",
    "layzer = UpstageLayoutAnalysisLoader(\"datasets/merge.pdf\", output_type=\"text\")\n",
    "# For improved memory efficiency, consider using the lazy_load method to load documents page by page.\n",
    "docs = layzer.load()  # or layzer.lazy_load()\n",
    "print(\"docs: \", docs)"
   ]
  },
  {
   "cell_type": "code",
   "execution_count": 16,
   "metadata": {},
   "outputs": [
    {
     "name": "stdout",
     "output_type": "stream",
     "text": [
      "Splits: 7\n"
     ]
    }
   ],
   "source": [
    "from langchain_text_splitters import (\n",
    "    Language,\n",
    "    RecursiveCharacterTextSplitter,\n",
    ")\n",
    "\n",
    "# 2. Split\n",
    "text_splitter = RecursiveCharacterTextSplitter.from_language(\n",
    "    chunk_size=1000, chunk_overlap=100, language=Language.HTML\n",
    ")\n",
    "splits = text_splitter.split_documents(docs)\n",
    "print(\"Splits:\", len(splits))"
   ]
  },
  {
   "cell_type": "code",
   "execution_count": 17,
   "metadata": {},
   "outputs": [],
   "source": [
    "from langchain_chroma import Chroma\n",
    "from langchain_upstage import UpstageEmbeddings\n",
    "\n",
    "# 3. Embed & indexing\n",
    "vectorstore = Chroma.from_documents(documents=splits, embedding=UpstageEmbeddings(model=\"solar-embedding-1-large\", embed_batch_size=100))"
   ]
  },
  {
   "cell_type": "code",
   "execution_count": 18,
   "metadata": {},
   "outputs": [
    {
     "name": "stdout",
     "output_type": "stream",
     "text": [
      "4\n",
      "<p id='0' style='font-size:16px'>빚투 ( < > me-too)<br>-</p><p id='1' style='font-size:16px'>핵인싸 ( < >\n"
     ]
    }
   ],
   "source": [
    "# 4. retrive\n",
    "retriever = vectorstore.as_retriever()\n",
    "result_docs = retriever.invoke(\"빚-투는 무슨 뜻이야?\")\n",
    "print(len(result_docs))\n",
    "print(result_docs[0].page_content[:100])"
   ]
  },
  {
   "cell_type": "code",
   "execution_count": null,
   "metadata": {},
   "outputs": [],
   "source": []
  }
 ],
 "metadata": {
  "kernelspec": {
   "display_name": "Python 3",
   "language": "python",
   "name": "python3"
  },
  "language_info": {
   "codemirror_mode": {
    "name": "ipython",
    "version": 3
   },
   "file_extension": ".py",
   "mimetype": "text/x-python",
   "name": "python",
   "nbconvert_exporter": "python",
   "pygments_lexer": "ipython3",
   "version": "3.11.6"
  }
 },
 "nbformat": 4,
 "nbformat_minor": 2
}
