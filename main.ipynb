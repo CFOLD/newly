{
 "cells": [
  {
   "cell_type": "code",
   "execution_count": 42,
   "metadata": {},
   "outputs": [
    {
     "name": "stdout",
     "output_type": "stream",
     "text": [
      "The dotenv extension is already loaded. To reload it, use:\n",
      "  %reload_ext dotenv\n"
     ]
    }
   ],
   "source": [
    "import os\n",
    "import warnings\n",
    "import requests\n",
    "import json\n",
    "\n",
    "from openai import OpenAI\n",
    "from langchain_core.tools import tool\n",
    "from langchain_core.prompts import PromptTemplate\n",
    "from langchain_core.output_parsers import StrOutputParser\n",
    "from langchain_upstage import ChatUpstage, UpstageLayoutAnalysisLoader\n",
    "from langchain_community.retrievers import BM25Retriever\n",
    "from langchain_text_splitters import (\n",
    "    Language,\n",
    "    RecursiveCharacterTextSplitter,\n",
    ")\n",
    "from langchain_chroma import Chroma\n",
    "from tavily import TavilyClient\n",
    "\n",
    "warnings.filterwarnings(\"ignore\")\n",
    "\n",
    "%load_ext dotenv\n",
    "%dotenv\n",
    "\n",
    "client = OpenAI(\n",
    "    api_key=os.environ[\"UPSTAGE_API_KEY\"], base_url=\"https://api.upstage.ai/v1/solar\"\n",
    ")\n",
    "llm = ChatUpstage()\n",
    "tavily = TavilyClient(api_key=os.environ[\"TAVILY_API_KEY\"])"
   ]
  },
  {
   "cell_type": "code",
   "execution_count": 17,
   "metadata": {},
   "outputs": [],
   "source": [
    "sentence = \"헤어지는 마당에 뭘 이런 거까지 알리나 이를테면 그녀에게 흔들린 것 그건 정말이지 TMI\""
   ]
  },
  {
   "cell_type": "code",
   "execution_count": 18,
   "metadata": {},
   "outputs": [],
   "source": [
    "sentence = \"마지막 인사는 하지 마... 중꺾마.\""
   ]
  },
  {
   "cell_type": "code",
   "execution_count": 19,
   "metadata": {},
   "outputs": [],
   "source": [
    "sentence = \"억까하지마, 이건 웃안웃이야!\""
   ]
  },
  {
   "cell_type": "code",
   "execution_count": 20,
   "metadata": {},
   "outputs": [],
   "source": [
    "sentence = \"더 이상 만나지 말라고 이건 킹리적 갓심이라고! 넌 갈비야!\""
   ]
  },
  {
   "cell_type": "code",
   "execution_count": 67,
   "metadata": {},
   "outputs": [],
   "source": [
    "sentence = \"우리 언니가 말없이 폰 붙들고 그딴 시답지 않은 개소리나 듣고 있길래 킹받아서 쫓아왔어요. 마누라 친구랑 하룻밤 재미봐놓고 들통나니 어쩔티비 내배째라? 언닌 그쪽 식구들한테 별의별 짓 다 당하면서 견디고 있는데, 이렇게 애매한 스탠스가 얼마나 사람 마음 힘들게 하는지 아세요? 욕 먹는 게 겁나요? 욕 한 바가지 드신다고 안 죽습니다! 사랑은 적어도 미안하단 말 하지 않는 게 기본 상식이에요. 이딴 것도 사랑이라고. 할많하않입니다 진짜.\""
   ]
  },
  {
   "cell_type": "code",
   "execution_count": 54,
   "metadata": {},
   "outputs": [],
   "source": [
    "sentence = \"알잘딱깔센하게 처리합시다.\""
   ]
  },
  {
   "cell_type": "code",
   "execution_count": 43,
   "metadata": {},
   "outputs": [],
   "source": [
    "sentence = \"\"\"\n",
    "어제 친구랑 만나서 노잼 영화를 봤는데, 차라리 집에서 넷플릭스나 볼 걸 그랬어.\n",
    "오늘 회사에서 팀장님께 혼나서 멘붕이 왔어.\n",
    "이번 시험은 거의 망했어. 내가 공부할 땐 멍청하게도 뇌피셜로만 외웠거든.\n",
    "주말에 친구들이랑 만나서 불금을 즐겼어.\n",
    "저 사람은 언제 봐도 핵인싸야. 어딜 가나 인기 많아.\n",
    "그 사람은 너무 대박이야! 모든 일을 척척 해내는 걸 보면 존경스러워.\n",
    "이번 주말에는 집콕하면서 푹 쉬기로 했어.\n",
    "친구가 요즘 완전 핵노잼이라 만나도 재미가 없어.\n",
    "매일매일이 너무 힘들어서 힐링이 필요해.\n",
    "그 가게 음식은 솔직히 비추야. 맛도 없고 서비스도 별로였어.\n",
    "\"\"\""
   ]
  },
  {
   "cell_type": "markdown",
   "metadata": {},
   "source": [
    "### 1. 문장에서 신조어 찾은 후 인터넷에서 신조어의 뜻 검색"
   ]
  },
  {
   "cell_type": "code",
   "execution_count": 73,
   "metadata": {},
   "outputs": [],
   "source": [
    "template = \"\"\"\n",
    "<<system>>\n",
    "신조어란 *새로 만들어진* 단어 및 용어 가운데 표준어로 등재되지 않은 말을 뜻합니다.\n",
    "당신은 신조어를 매우 잘 알고 있는 전문가로, [SENTENCE]에서 신조어 단어를 찾아 나열하고 있습니다.\n",
    "신조어를 나열하는 것 이외에는 절대 대답하지 않습니다.\n",
    "<</system>>\n",
    "---\n",
    "[SENTENCE]\n",
    "{sentence}\n",
    "[/SENTENCE]\n",
    "\"\"\"\n",
    "\n",
    "prompt_template = PromptTemplate.from_template(template)\n",
    "chain = prompt_template | llm | StrOutputParser()"
   ]
  },
  {
   "cell_type": "code",
   "execution_count": 74,
   "metadata": {},
   "outputs": [
    {
     "name": "stdout",
     "output_type": "stream",
     "text": [
      "[{'title': '[한국어 신조어] 킹받다/킹받네 뜻과 쓰임, 유래', 'url': 'https://nomadteacher.tistory.com/entry/한국어-신조어-킹받다킹받네-뜻과-쓰임-유래', 'content': \"[한국어 신조어] 자강두천 뜻 (사자성어 아님) 그럴듯해 보여서 무슨 사자성어로 오해받기 딱 좋은 단어, 자강두천. 그러나 이는 사자성어가 아닌 온라인상에서 유행처럼 쓰이는 신조어입니다. 자강두천이란? '자존심 강한 두 천재의 대결'의. nomadteacher.tistory.com\", 'score': 0.97418, 'raw_content': None}, {'title': '킹받다 뜻(좋은의미? 나쁜의미?)', 'url': 'https://verygoodrichman.tistory.com/195', 'content': \"킹 받다 뜻에 대해 알아보겠습니다. 요즘 MZ세대들이 많이 사용하는 신조어인 킹 받다에 대해 알아보겠습니다. 킹 받다가 무슨 뜻인지, 왜 이런 말을 쓰게 되었는지 알아보겠습니다. 킹받다 뜻 알아보기 킹 받다 뜻 킹받다 뜻을 바로 알아보겠습니다. '킹 받다'는 '열받다'를 강조하기 위해 '열' 대신 ...\", 'score': 0.9718, 'raw_content': None}, {'title': '킹받다 - Wiktionary, the free dictionary', 'url': 'https://en.wiktionary.org/wiki/킹받다', 'content': '킹받아서 kingbadaseo: 킹받으니 kingbadeuni: 킹받으니까 kingbadeunikka: Contrast 킹받지만 kingbatjiman: 킹받는데 kingbanneunde: 킹받더니 kingbatdeoni: Conjunction 킹받고 kingbatgo: Condition 킹받으면 kingbadeumyeon: 킹받아야 kingbadaya: Motive 킹받으려고 kingbadeuryeogo: Noun and determiner forms; Verbal ...', 'score': 0.97028, 'raw_content': None}, {'title': '킹받네, 킹받는다 뜻과 유래 - 밈과 드립', 'url': 'https://everymemes.tistory.com/317', 'content': \"그렇다면 과연 이 말은 무슨 뜻이고 어디에서 유래되었는지 한번 알아보도록 하겠습니다. 킹받네, 킹받는다 뜻 먼저 '킹받네', '킹받는다'의 뜻은 각각 '열받네', '열받는다'입니다. 둘 다 열이라는 글자를 킹으로 치환한 것으로 어떤 일에 화가 나거나 흥분을 해서 ...\", 'score': 0.94939, 'raw_content': None}, {'title': '\"킹받아\"은(는) 무슨 뜻인가요? 한국어 질문 | HiNative', 'url': 'https://ko.hinative.com/questions/21121761', 'content': '한국어. It is a kind of new coinage and a composite of \"킹\" and \"열받아\" which means \"king\" and \"piss me off\" respectively. We often use premodifier of \"킹\" in casual way but not officially to emphasize. for example. 킹받아 : 킹 + 열받아. 킹리적 갓심 : 킹 + 심리적 + 갓 (God) + 의심.', 'score': 0.92724, 'raw_content': None}, {'title': \"'어쩔티비'가 무슨 뜻? 신조어엔 재미·세태 담겨있다-국민일보\", 'url': 'https://www.kmib.co.kr/article/view.asp?arcid=0924229153', 'content': \"최근 배우 신혜선이 쿠팡플레이에서 방영되는 코미디쇼 'SNL 코리아'에 출연해 화제를 모은 단어 '어쩔티비', 이제 어떤 뜻인지 아시나요? '어쩌라고 가서 티비나 봐'의 줄임말로 10대들이 듣기 싫은 말을 들을 때 대응법으로 써먹는 표현입니다.\", 'score': 0.97444, 'raw_content': None}, {'title': '어쩔티비 - 위키백과, 우리 모두의 백과사전', 'url': 'https://ko.wikipedia.org/wiki/어쩔티비', 'content': '어쩔티비. 어쩔티비 는 대한민국 의 신조어이다. 주로 어린이 들이 상대방이 듣기 싫은 말을 했을 때 사용하는 표현으로 정확한 유래는 없지만 대부분 \"어쩌라고 티비나 봐\"의 줄임말이라 알려졌다. [1] 상대방이 어쩔티비라고 말했을 때 저쩔티비라고 받아치기도 ...', 'score': 0.94251, 'raw_content': None}, {'title': '어쩔tv - 나무위키', 'url': 'https://namu.wiki/w/어쩔TV', 'content': '어쩔TV. 1. 개요 [편집] 2021년 하반기에 유명해진 유행어 다. Assertive. 2. 기원 [편집] 신조어 중에서는 드물게 기원이 상당히 불분명한 편이다. 해당 신조어의 기원은 10대 초중반에서 시작되었다가 커뮤니티 등지와 유튜브 방송 등으로 점차 퍼져나가면서 밈화 ...', 'score': 0.92371, 'raw_content': None}, {'title': '어쩔티비 뜻과 유래 (feat. 대처법) - 밈과 드립', 'url': 'https://everymemes.tistory.com/365', 'content': \"어쩔티비 뜻 어쩌라고라는 말입니다. 주로 상대방의 말에 대답하기 싫거나 귀찮을 때, 그냥 상대방을 짜증나게 하고 싶을때 사용하는 말로 '어쩌라고'와 같은 의미이기 때문에 듣는 사람을 확실히 짜증나게 할 수 있습니다. 어쩔티비 유래 어쩔티비 유래는 보시다시피 트위터에 올라온 트위터 글들로 ...\", 'score': 0.90729, 'raw_content': None}, {'title': '어쩔티비 뜻과 유래 (+어쩔티비 모음) - 잼늬 블로그', 'url': 'https://whitefaceone.tistory.com/2494', 'content': '어쩔티비 뜻 어쩌라고, 어쩔건데, 안물어봤는데 등의 의미입니다. 상대방이 귀찮게 하거나 대답하기 곤란한 질문을 했을 경우에 하는 말로 상대방을 도발하는 의미입니다. 킹받거나 꼴받게 만들어서 그런 질문을 한 상대방을 응징하는 방법입니다. 어쩔티비 유래 2021년 부터 유튜브 및 커뮤니티 ...', 'score': 0.90438, 'raw_content': None}, {'title': '네이버 사전 (NAVER dictionary)', 'url': 'http://dic.naver.com/', 'content': '영어, 국어, 한자, 일본어, 중국어를 포함한 67종 언어로 총 3000만 표제어를 제공하는 네이버사전', 'score': 0.97806, 'raw_content': None}, {'title': '\"배 째라는 식\"은(는) 무슨 뜻인가요? 한국어 질문 | HiNative', 'url': 'https://ko.hinative.com/questions/16581014', 'content': '배 째라는 식 (bae jjae-ra-neun sig) 배 째라는 식의 정의 째다: 뭔가를 가르거나 하는 일 사람의 배를 째면 죽잖아요. 자기 의견이 맘에 안 들면 자기 배를 째라고 하는 거에요. 그럼 상대가 살인을 할 수는 없으니 의견을 들어주겠죠. 결국 (자기 의견을 위해서) 고집을 엄청나게 부린다는 뜻이에요. ex) A ...', 'score': 0.97106, 'raw_content': None}, {'title': '배째 - 나무위키', 'url': 'https://namu.wiki/w/배째', 'content': '스타크래프트 와 같은 RTS 게임에서의 용어 \"배째기\"는 주로 병력 생산을 거의 안 하거나 혹은 아예 하지 않은 채 확장 기지 (멀티)를 빠르게 가져가는 것 (선앞마당, 생더블 / 등)을 뜻한다. [2] 배째기를 하게 된다면, 초반 전략의 위험성을 감수하고 부자스럽게 ...', 'score': 0.91962, 'raw_content': None}, {'title': '네이버 영어사전', 'url': 'https://en.dict.naver.com/', 'content': '미국/영국식 발음, 여러 종류의 출판사 사전 뜻풀이, 풍부한 유의어/반의어, 대표사전 설정 기능, 상세검색 기능, 영어 단어장 제공', 'score': 0.90662, 'raw_content': None}, {'title': 'Google Translate - Google 번역', 'url': 'https://translate.google.co.kr/?hl=en&tab=wT', 'content': \"Google's service, offered free of charge, instantly translates words, phrases, and web pages between English and over 100 other languages.\", 'score': 0.90282, 'raw_content': None}, {'title': '할많하않 - Wiktionary, the free dictionary', 'url': 'https://en.wiktionary.org/wiki/할많하않', 'content': \"할많하않 • (halmanhaan) ( Internet slang, text messaging) Used to state that one won't state one's thoughts due to the situation being futile or due to annoyance or frustration with the listener. Categories: Korean abbreviations. Korean terms with IPA pronunciation. Korean lemmas. Korean interjections.\", 'score': 0.9738, 'raw_content': None}, {'title': '[잠깐상식] `할많하않` 무슨뜻? Sns와 뉴스 댓글 등에 많이 쓰이던데? - 매일신문', 'url': 'https://www.imaeil.com/page/view/2018071815361564844', 'content': \"'할많하않'이라는 신조어에 대한 기성세대의 관심이 높다. 이 말이 SNS와 뉴스 댓글 등에 자주 쓰이면서 뜻을 궁금해하는 것.\", 'score': 0.95062, 'raw_content': None}, {'title': '할많하않·할말하않 뜻과 유래 (고요 속의 외침)', 'url': 'https://whitefaceone.tistory.com/2030', 'content': \"할많하않·할말하않 뜻 할많하않: '할 말은 많지만 하지 않는다' 할말하않: '할 말은 많지만 하지 않는다' 할말하않과 할말하않은 '할 말은 많지만 하지 않는다'의 줄임말으로서 같은 뜻입니다. 관심이 있는 주제이지만 너무 말이 길어질 것 같을 때 사용거나 지적하고 싶지만 분쟁이 발생할 것 같아서 ...\", 'score': 0.93409, 'raw_content': None}, {'title': '할많하않 vs 할말하않 뜻과 유래 이게 뭐야? 황당한 신조어(ft.나는솔로10기영자오이) : 네이버 블로그', 'url': 'https://blog.naver.com/PostView.nhn?blogId=schwabingstory&logNo=222866638556', 'content': \"존재하지 않는 이미지입니다. . 2015년에 탄생한 '할많하않' 신조어는. 수많은 밈현상을 유행시켰고 짤영상도 많이 생성되었다. . 시간이 지나면서 유래가 나쁜 감정을 정리하는 표현으로 쓰이다 보니, 부정적인 쪽으로 감정 표현을 하는 것으로 유래로 정리 ...\", 'score': 0.93207, 'raw_content': None}, {'title': '할많하않, 할말하않 뜻 알아보기 - 밈과 드립', 'url': 'https://everymemes.tistory.com/126', 'content': \"과연 '할많하않'과 '할말하않'은 어떤 뜻을 가지고 있는지 지금부터 저와 함께 알아보도록 하죠. 할많하않 .. 개인적으로 본 블로그에 다양한 밈과 드립, 그리고 신조어나 유행어들을 소개해드리고 있는데요, 처음 블로그를 시작했을때는 어느순간 과거의 밈이나 ...\", 'score': 0.92302, 'raw_content': None}]\n"
     ]
    }
   ],
   "source": [
    "new_list = chain.invoke({\"sentence\": sentence}).split(\", \")\n",
    "context = []\n",
    "for word in new_list:\n",
    "    # context_eng = tavily.search(query=\"What is meaing \" + word, search_depth=\"advanced\")['results']\n",
    "    context_kor = tavily.search(query=word + \" 무슨 뜻\", search_depth=\"advanced\")['results']\n",
    "    context += context_kor\n",
    "\n",
    "print(context)"
   ]
  },
  {
   "cell_type": "code",
   "execution_count": 75,
   "metadata": {},
   "outputs": [
    {
     "data": {
      "text/plain": [
       "['킹받아서', '어쩔티비', '내배째라', '할많하않']"
      ]
     },
     "execution_count": 75,
     "metadata": {},
     "output_type": "execute_result"
    }
   ],
   "source": [
    "new_list"
   ]
  },
  {
   "cell_type": "code",
   "execution_count": 24,
   "metadata": {},
   "outputs": [],
   "source": [
    "# # Quick hello world\n",
    "# from langchain_core.output_parsers import StrOutputParser\n",
    "# from langchain_core.prompts import PromptTemplate\n",
    "# from langchain_upstage import ChatUpstage\n",
    "# llm = ChatUpstage()\n",
    "\n",
    "# prompt_template = PromptTemplate.from_template(\n",
    "#     \"\"\"\n",
    "#     내가 드라마 대사를 줄테니 단어 하나마다 신조어로 추정되는지 되지 않는지 찾아서 나열해봐. \n",
    "#     나열하는 방법은 단어1이 신조어라면 (단어1: 신조어 맞음) 단어2가 신조어가 아니라면 (단어2: 신조어 아님)로 쭉 나열해줘.\n",
    "#     ---------------------------------\n",
    "#     {content}.\n",
    "#     \"\"\"\n",
    "# )\n",
    "\n",
    "# prompt_template.format(content=\"{text}\")\n",
    "# chain = prompt_template | llm | StrOutputParser()\n",
    "# find_new_words_result = chain.invoke({\"content\": {example_text}})"
   ]
  },
  {
   "cell_type": "markdown",
   "metadata": {},
   "source": [
    "### 2. 인터넷에서 찾은 뜻을 종합하여 신조어 뜻 사전 만들기"
   ]
  },
  {
   "cell_type": "code",
   "execution_count": 76,
   "metadata": {},
   "outputs": [
    {
     "name": "stdout",
     "output_type": "stream",
     "text": [
      "단어1: 뜻\n",
      "- '킹받아서': 열받아서 (화가 나서)\n",
      "- '어쩔티비': 어쩌라고 (상대방의 말에 대답하기 싫을 때)\n",
      "- '내배째라': 배 째라 (상대방의 요구에 대해 신경 쓰지 않겠다는 의미)\n",
      "- '할많하않': 할 말은 많지만 하지 않겠다 (감정이나 생각을 표현하지 않겠다는 의미)\n"
     ]
    }
   ],
   "source": [
    "prompt_template = PromptTemplate.from_template(\n",
    "    \"\"\"\n",
    "    내가 신조어가 들어있는 리스트와 리스트에 담긴 단어들을 검색한 정보를 줄테니 단어들의 뜻을 정보를 찾아 작성해줘.\n",
    "    뜻을 찾아서 {{단어1: 뜻, 단어2: 뜻}}과 같은 딕셔너리 형태로 대답해.   \n",
    "    ---------------------------------\n",
    "    \n",
    "    {content}.\n",
    "    {context}\n",
    "    \"\"\"\n",
    ")\n",
    "\n",
    "chain = prompt_template | llm | StrOutputParser()\n",
    "new_words_meaning = chain.invoke({\"content\": {str(new_list)}, \"context\" : {str(context)}})\n",
    "print(new_words_meaning)"
   ]
  },
  {
   "cell_type": "code",
   "execution_count": 113,
   "metadata": {},
   "outputs": [
    {
     "name": "stdout",
     "output_type": "stream",
     "text": [
      "원본 텍스트: 우리 언니가 말없이 폰 붙들고 그딴 시답지 않은 개소리나 듣고 있길래 킹받아서 쫓아왔어요. 마누라 친구랑 하룻밤 재미봐놓고 들통나니 어쩔티비 내배째라? 언닌 그쪽 식구들한테 별의별 짓 다 당하면서 견디고 있는데, 이렇게 애매한 스탠스가 얼마나 사람 마음 힘들게 하는지 아세요? 욕 먹는 게 겁나요? 욕 한 바가지 드신다고 안 죽습니다! 사랑은 적어도 미안하단 말 하지 않는 게 기본 상식이에요. 이딴 것도 사랑이라고. 할많하않입니다 진짜.\n",
      "\n",
      "수정된 텍스트: 우리 언니가 말없이 폰을 붙잡고 시시한 이야기를 듣고 있어서 화가 나서 쫓아왔어요. 남편의 친구와 하룻밤을 즐기고 들통났는데도 어쩔 수 없냐고요? 언니는 그쪽 가족들에게 온갖 일을 당하면서 견디고 있는데, 이렇게 애매한 태도가 얼마나 사람을 힘들게 하는지 아세요? 욕을 먹는 게 겁나요? 욕을 한 바가지 드신다고 안 죽습니다! 사랑은 적어도 미안하다는 말을 하지 않는 게 기본 상식이에요. 이런 것도 사랑이라고요. 할 말은 많지만 하지 않겠습니다. 정말로.\n"
     ]
    }
   ],
   "source": [
    "prompt_template = PromptTemplate.from_template(\n",
    "    \"\"\"\n",
    "    내가 텍스트와 텍스트 속 바꿀 단어와 각 단어의 뜻을 줄테니, 단어 뜻을 참고해 문장을 크게 바꾸지 않고, 문장의 어투를 바꾸지 않고, 바꿀 단어만 자연스럽게 문장을 수정해서 보여줘.\n",
    "    그래서 원본 텍스트와 수정된 텍스트를 각각 나열해줘\n",
    "    ---------------------------------\n",
    "    원본 텍스트 : {sentence}\n",
    "    텍스트 속 바꿀 단어와 뜻: {new_words_meaning}\n",
    "    \"\"\"\n",
    ")\n",
    "\n",
    "chain = prompt_template | llm | StrOutputParser()\n",
    "result2 = chain.invoke({\"sentence\": {sentence}, \"new_words_meaning\":{new_words_meaning}})\n",
    "print(result2)"
   ]
  }
 ],
 "metadata": {
  "kernelspec": {
   "display_name": "Python 3",
   "language": "python",
   "name": "python3"
  },
  "language_info": {
   "codemirror_mode": {
    "name": "ipython",
    "version": 3
   },
   "file_extension": ".py",
   "mimetype": "text/x-python",
   "name": "python",
   "nbconvert_exporter": "python",
   "pygments_lexer": "ipython3",
   "version": "3.11.5"
  }
 },
 "nbformat": 4,
 "nbformat_minor": 2
}
