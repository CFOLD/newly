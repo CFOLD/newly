{
 "cells": [
  {
   "cell_type": "code",
   "execution_count": 42,
   "metadata": {},
   "outputs": [
    {
     "name": "stdout",
     "output_type": "stream",
     "text": [
      "The dotenv extension is already loaded. To reload it, use:\n",
      "  %reload_ext dotenv\n"
     ]
    }
   ],
   "source": [
    "import os\n",
    "import warnings\n",
    "import requests\n",
    "import json\n",
    "\n",
    "from openai import OpenAI\n",
    "from langchain_core.tools import tool\n",
    "from langchain_core.prompts import PromptTemplate\n",
    "from langchain_core.output_parsers import StrOutputParser\n",
    "from langchain_upstage import ChatUpstage, UpstageLayoutAnalysisLoader\n",
    "from langchain_community.retrievers import BM25Retriever\n",
    "from langchain_text_splitters import (\n",
    "    Language,\n",
    "    RecursiveCharacterTextSplitter,\n",
    ")\n",
    "from langchain_chroma import Chroma\n",
    "from tavily import TavilyClient\n",
    "\n",
    "warnings.filterwarnings(\"ignore\")\n",
    "\n",
    "%load_ext dotenv\n",
    "%dotenv\n",
    "\n",
    "client = OpenAI(\n",
    "    api_key=os.environ[\"UPSTAGE_API_KEY\"], base_url=\"https://api.upstage.ai/v1/solar\"\n",
    ")\n",
    "llm = ChatUpstage()\n",
    "tavily = TavilyClient(api_key=os.environ[\"TAVILY_API_KEY\"])"
   ]
  },
  {
   "cell_type": "code",
   "execution_count": 17,
   "metadata": {},
   "outputs": [],
   "source": [
    "sentence = \"헤어지는 마당에 뭘 이런 거까지 알리나 이를테면 그녀에게 흔들린 것 그건 정말이지 TMI\""
   ]
  },
  {
   "cell_type": "code",
   "execution_count": 18,
   "metadata": {},
   "outputs": [],
   "source": [
    "sentence = \"마지막 인사는 하지 마... 중꺾마.\""
   ]
  },
  {
   "cell_type": "code",
   "execution_count": 19,
   "metadata": {},
   "outputs": [],
   "source": [
    "sentence = \"억까하지마, 이건 웃안웃이야!\""
   ]
  },
  {
   "cell_type": "code",
   "execution_count": 20,
   "metadata": {},
   "outputs": [],
   "source": [
    "sentence = \"더 이상 만나지 말라고 이건 킹리적 갓심이라고! 넌 갈비야!\""
   ]
  },
  {
   "cell_type": "code",
   "execution_count": 67,
   "metadata": {},
   "outputs": [],
   "source": [
    "sentence = \"우리 언니가 말없이 폰 붙들고 그딴 시답지 않은 개소리나 듣고 있길래 킹받아서 쫓아왔어요. 마누라 친구랑 하룻밤 재미봐놓고 들통나니 어쩔티비 내배째라? 언닌 그쪽 식구들한테 별의별 짓 다 당하면서 견디고 있는데, 이렇게 애매한 스탠스가 얼마나 사람 마음 힘들게 하는지 아세요? 욕 먹는 게 겁나요? 욕 한 바가지 드신다고 안 죽습니다! 사랑은 적어도 미안하단 말 하지 않는 게 기본 상식이에요. 이딴 것도 사랑이라고. 할많하않입니다 진짜.\""
   ]
  },
  {
   "cell_type": "code",
   "execution_count": 114,
   "metadata": {},
   "outputs": [],
   "source": [
    "sentence = \"알잘딱깔센하게 처리합시다.\""
   ]
  },
  {
   "cell_type": "code",
   "execution_count": 43,
   "metadata": {},
   "outputs": [],
   "source": [
    "sentence = \"\"\"\n",
    "어제 친구랑 만나서 노잼 영화를 봤는데, 차라리 집에서 넷플릭스나 볼 걸 그랬어.\n",
    "오늘 회사에서 팀장님께 혼나서 멘붕이 왔어.\n",
    "이번 시험은 거의 망했어. 내가 공부할 땐 멍청하게도 뇌피셜로만 외웠거든.\n",
    "주말에 친구들이랑 만나서 불금을 즐겼어.\n",
    "저 사람은 언제 봐도 핵인싸야. 어딜 가나 인기 많아.\n",
    "그 사람은 너무 대박이야! 모든 일을 척척 해내는 걸 보면 존경스러워.\n",
    "이번 주말에는 집콕하면서 푹 쉬기로 했어.\n",
    "친구가 요즘 완전 핵노잼이라 만나도 재미가 없어.\n",
    "매일매일이 너무 힘들어서 힐링이 필요해.\n",
    "그 가게 음식은 솔직히 비추야. 맛도 없고 서비스도 별로였어.\n",
    "\"\"\""
   ]
  },
  {
   "cell_type": "markdown",
   "metadata": {},
   "source": [
    "### 1. 문장에서 신조어 찾은 후 인터넷에서 신조어의 뜻 검색"
   ]
  },
  {
   "cell_type": "code",
   "execution_count": 115,
   "metadata": {},
   "outputs": [],
   "source": [
    "template = \"\"\"\n",
    "<<system>>\n",
    "신조어란 *새로 만들어진* 단어 및 용어 가운데 표준어로 등재되지 않은 말을 뜻합니다.\n",
    "당신은 신조어를 매우 잘 알고 있는 전문가로, [SENTENCE]에서 신조어 단어를 찾아 나열하고 있습니다.\n",
    "신조어를 나열하는 것 이외에는 절대 대답하지 않습니다.\n",
    "<</system>>\n",
    "---\n",
    "[SENTENCE]\n",
    "{sentence}\n",
    "[/SENTENCE]\n",
    "\"\"\"\n",
    "\n",
    "prompt_template = PromptTemplate.from_template(template)\n",
    "chain = prompt_template | llm | StrOutputParser()"
   ]
  },
  {
   "cell_type": "code",
   "execution_count": 116,
   "metadata": {},
   "outputs": [
    {
     "name": "stdout",
     "output_type": "stream",
     "text": [
      "[{'title': '[한국어 신조어] 알잘딱깔센 뜻과 쓰임', 'url': 'https://nomadteacher.tistory.com/entry/한국어-신조어-알잘딱깔센-뜻과-쓰임', 'content': \"긴말 하지 않아도 스스로 알아서 잘 하는 사람 말입니다. 이런 사람을 가리켜 표현하는 신조어가 있습니다. ' 알잘딱깔센 '인데요. 알잘딱깔센의 의미와 쓰임을 알아봅시다. 1. '알잘딱깔센'이란? 뜻과 유래. ' 알 아서 잘 딱 깔 끔하고 센 스있게'의 줄임말입니다 ...\", 'score': 0.96429, 'raw_content': None}, {'title': '알잘딱깔센 뜻, 유래, 예시, 반대말까지 총정리', 'url': 'https://alltaste.tistory.com/entry/알잘딱깔센-뜻-유래-예시-반대말까지-총정리', 'content': '오늘의 줄임말은 \"알잘딱깔센\\'이다. 알잘딱깔센의 뜻 알아서 잘 딱 깔끔하고 센스 있게 를 줄인 말이라고 한다. 한마디로 \\'알아서 센스 있게 잘\\'이라는 의미이다. 알잘딱깔센 예시 의외로 사용하기는 쉽다. \\'센스 있게\\'가 들어갈 만한 자리에 넣어주면 오케이 ...', 'score': 0.95602, 'raw_content': None}, {'title': \"Mz세대 '알잘딱깔센' 무슨 뜻? | 아주경제\", 'url': 'https://www.ajunews.com/view/20200714145113127', 'content': \"신조어 '알잘딱깔센'은 '알아서, 잘, 딱, 깔끔하고, 센스있게'를 줄인 신조어다. 알아서 잘 깔끔하고 센스있게 하라는 뜻으로 아나운서 김수현의 ...\", 'score': 0.9369, 'raw_content': None}, {'title': '알잘딱깔센 - 나무위키', 'url': 'https://namu.wiki/w/알잘딱깔센', 'content': '실제로 알잘딱깔센 그 자체는 아무런 의미가 없는 단어들의 조합이다. 단어들이 가리키는 지향점은 최종적으로 센스 , 눈치 있게 행동해라 정도가 되겠는데 눈치라는 것은 자체가 학습(지식)과 경험을 바탕으로 상황에 맞게 대처하는 능력이지 그 자체가 ...', 'score': 0.92221, 'raw_content': None}, {'title': '알잘딱, 알잘딱깔센 뜻, 유래 신조어 모음 : 네이버 블로그', 'url': 'https://blog.naver.com/PostView.nhn?blogId=claykim999&logNo=222913948448', 'content': \"하지만 한 번 알잘딱깔센의 뜻을 보면 다음에는 어리바리하지 않고 바로 무슨 의미인지 알 수 있다. ... 이상으로 오늘은 알잘딱, 알잘딱깔센 뜻, 유래 신조어 모음에 대해 포스팅해 봤다. '시대에 뒤떨어지지 않기 위해서는 정말 많은 노력이 필요하구나'라고 ...\", 'score': 0.90452, 'raw_content': None}]\n"
     ]
    }
   ],
   "source": [
    "new_list = chain.invoke({\"sentence\": sentence}).split(\", \")\n",
    "context = []\n",
    "for word in new_list:\n",
    "    # context_eng = tavily.search(query=\"What is meaing \" + word, search_depth=\"advanced\")['results']\n",
    "    context_kor = tavily.search(query=word + \" 무슨 뜻\", search_depth=\"advanced\")['results']\n",
    "    context += context_kor\n",
    "\n",
    "print(context)"
   ]
  },
  {
   "cell_type": "code",
   "execution_count": 118,
   "metadata": {},
   "outputs": [
    {
     "data": {
      "text/plain": [
       "['알잘딱깔센']"
      ]
     },
     "execution_count": 118,
     "metadata": {},
     "output_type": "execute_result"
    }
   ],
   "source": [
    "new_list"
   ]
  },
  {
   "cell_type": "code",
   "execution_count": 24,
   "metadata": {},
   "outputs": [],
   "source": [
    "# # Quick hello world\n",
    "# from langchain_core.output_parsers import StrOutputParser\n",
    "# from langchain_core.prompts import PromptTemplate\n",
    "# from langchain_upstage import ChatUpstage\n",
    "# llm = ChatUpstage()\n",
    "\n",
    "# prompt_template = PromptTemplate.from_template(\n",
    "#     \"\"\"\n",
    "#     내가 드라마 대사를 줄테니 단어 하나마다 신조어로 추정되는지 되지 않는지 찾아서 나열해봐. \n",
    "#     나열하는 방법은 단어1이 신조어라면 (단어1: 신조어 맞음) 단어2가 신조어가 아니라면 (단어2: 신조어 아님)로 쭉 나열해줘.\n",
    "#     ---------------------------------\n",
    "#     {content}.\n",
    "#     \"\"\"\n",
    "# )\n",
    "\n",
    "# prompt_template.format(content=\"{text}\")\n",
    "# chain = prompt_template | llm | StrOutputParser()\n",
    "# find_new_words_result = chain.invoke({\"content\": {example_text}})"
   ]
  },
  {
   "cell_type": "markdown",
   "metadata": {},
   "source": [
    "### 2. 인터넷에서 찾은 뜻을 종합하여 신조어 뜻 사전 만들기"
   ]
  },
  {
   "cell_type": "code",
   "execution_count": 119,
   "metadata": {},
   "outputs": [
    {
     "name": "stdout",
     "output_type": "stream",
     "text": [
      "알잘딱깔센: \"알아서 잘 딱 깔끔하고 센스있게\"의 줄임말로, 어떤 일을 스스로 알아서 잘 처리하는 것을 의미합니다.\n"
     ]
    }
   ],
   "source": [
    "prompt_template = PromptTemplate.from_template(\n",
    "    \"\"\"\n",
    "    내가 신조어가 들어있는 리스트와 리스트에 담긴 단어들을 검색한 정보를 줄테니 단어들의 뜻을 정보를 찾아 작성해줘.\n",
    "    뜻을 찾아서 {{단어1: 뜻, 단어2: 뜻}}과 같은 딕셔너리 형태로 대답해.   \n",
    "    ---------------------------------\n",
    "    \n",
    "    {content}.\n",
    "    {context}\n",
    "    \"\"\"\n",
    ")\n",
    "\n",
    "chain = prompt_template | llm | StrOutputParser()\n",
    "new_words_meaning = chain.invoke({\"content\": {str(new_list)}, \"context\" : {str(context)}})\n",
    "print(new_words_meaning)"
   ]
  },
  {
   "cell_type": "markdown",
   "metadata": {},
   "source": [
    "### 3. 사전을 바탕으로 문장 수정"
   ]
  },
  {
   "cell_type": "code",
   "execution_count": 120,
   "metadata": {},
   "outputs": [
    {
     "name": "stdout",
     "output_type": "stream",
     "text": [
      "원본 텍스트: 알잘딱깔센하게 처리합시다.\n",
      "수정된 텍스트: 스스로 알아서 잘 처리하고, 깔끔하고 센스있게 처리합시다.\n"
     ]
    }
   ],
   "source": [
    "prompt_template = PromptTemplate.from_template(\n",
    "    \"\"\"\n",
    "    내가 텍스트와 텍스트 속 바꿀 단어와 각 단어의 뜻을 줄테니, 단어 뜻을 참고해 문장을 크게 바꾸지 않고, 문장의 어투를 바꾸지 않고, 바꿀 단어만 자연스럽게 문장을 수정해서 보여줘.\n",
    "    그래서 원본 텍스트와 수정된 텍스트를 각각 나열해줘\n",
    "    ---------------------------------\n",
    "    원본 텍스트 : {sentence}\n",
    "    텍스트 속 바꿀 단어와 뜻: {new_words_meaning}\n",
    "    \"\"\"\n",
    ")\n",
    "\n",
    "chain = prompt_template | llm | StrOutputParser()\n",
    "result2 = chain.invoke({\"sentence\": {sentence}, \"new_words_meaning\":{new_words_meaning}})\n",
    "print(result2)"
   ]
  }
 ],
 "metadata": {
  "kernelspec": {
   "display_name": "Python 3",
   "language": "python",
   "name": "python3"
  },
  "language_info": {
   "codemirror_mode": {
    "name": "ipython",
    "version": 3
   },
   "file_extension": ".py",
   "mimetype": "text/x-python",
   "name": "python",
   "nbconvert_exporter": "python",
   "pygments_lexer": "ipython3",
   "version": "3.11.5"
  }
 },
 "nbformat": 4,
 "nbformat_minor": 2
}
