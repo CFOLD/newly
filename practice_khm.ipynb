{
 "cells": [
  {
   "cell_type": "code",
   "execution_count": 13,
   "id": "b8975ce4-0edc-41b5-8d2d-66a168757dc0",
   "metadata": {},
   "outputs": [
    {
     "name": "stdout",
     "output_type": "stream",
     "text": [
      "The dotenv extension is already loaded. To reload it, use:\n",
      "  %reload_ext dotenv\n"
     ]
    }
   ],
   "source": [
    "import os\n",
    "import warnings\n",
    "import requests\n",
    "import json\n",
    "\n",
    "from openai import OpenAI\n",
    "from langchain_core.tools import tool\n",
    "from langchain_core.prompts import PromptTemplate\n",
    "from langchain_core.output_parsers import StrOutputParser\n",
    "from langchain_upstage import ChatUpstage, UpstageLayoutAnalysisLoader\n",
    "from langchain_community.retrievers import BM25Retriever\n",
    "from langchain_text_splitters import (\n",
    "    Language,\n",
    "    RecursiveCharacterTextSplitter,\n",
    ")\n",
    "from langchain_chroma import Chroma\n",
    "from tavily import TavilyClient\n",
    "\n",
    "warnings.filterwarnings(\"ignore\")\n",
    "\n",
    "%load_ext dotenv\n",
    "%dotenv\n",
    "\n",
    "client = OpenAI(\n",
    "    api_key=os.environ[\"UPSTAGE_API_KEY\"], base_url=\"https://api.upstage.ai/v1/solar\"\n",
    ")\n",
    "llm = ChatUpstage()\n",
    "tavily = TavilyClient(api_key=os.environ[\"TAVILY_API_KEY\"])"
   ]
  },
  {
   "cell_type": "code",
   "execution_count": 156,
   "id": "569559ab-705f-4dc2-9c37-329e2bd46087",
   "metadata": {},
   "outputs": [],
   "source": [
    "template = \"\"\"\n",
    "<<system>>\n",
    "신조어란 *새로 만들어진* 단어 및 용어 가운데 표준어로 등재되지 않은 말을 뜻합니다.\n",
    "당신은 신조어를 매우 잘 알고 있는 전문가로, [SENTENCE]에서 신조어 단어를 찾아 나열하고 있습니다.\n",
    "신조어를 나열하는 것 이외에는 절대 대답하지 않습니다.\n",
    "<</system>>\n",
    "---\n",
    "[SENTENCE]\n",
    "{sentence}\n",
    "[/SENTENCE]\n",
    "\"\"\"\n",
    "\n",
    "prompt_template = PromptTemplate.from_template(template)\n",
    "chain = prompt_template | llm | StrOutputParser()"
   ]
  },
  {
   "cell_type": "code",
   "execution_count": 157,
   "id": "bdecfeb2-4c0c-4ddf-93ec-f365ddf8a774",
   "metadata": {},
   "outputs": [],
   "source": [
    "sentence = \"\"\"우리 언니가 말없이 폰 붙들고 그딴 시답지 않은 개소리나 듣고 있길래 킹받아서 쫓아왔어요. 마누라 친구랑 하룻밤 재미봐놓고 들통나니 어쩔티비 내배째라?\n",
    "언닌 그쪽 식구들한테 별의별 짓 다 당하면서 견디고 있는데, 이렇게 애매한 스탠스가 얼마나 사람 마음 힘들게 하는지 아세요?\n",
    "욕 먹는 게 겁나요? 욕 한 바가지 드신다고 안 죽습니다!\n",
    "사랑은 적어도 미안하단 말 하지 않는 게 기본 상식이에요. 이딴 것도 사랑이라고. 할많하않입니다 진짜.\"\"\""
   ]
  },
  {
   "cell_type": "code",
   "execution_count": 158,
   "id": "d531e147-407c-4930-8f22-d3b144156448",
   "metadata": {},
   "outputs": [],
   "source": [
    "new_list = chain.invoke({\"sentence\": sentence}).split(\", \")"
   ]
  },
  {
   "cell_type": "code",
   "execution_count": 168,
   "id": "828a78cd-7acc-42ee-a11b-05c528e69e87",
   "metadata": {},
   "outputs": [
    {
     "name": "stdout",
     "output_type": "stream",
     "text": [
      "[{'title': '킹받다 - Wiktionary, the free dictionary', 'url': 'https://en.wiktionary.org/wiki/킹받다', 'content': '킹받아서 kingbadaseo: 킹받으니 kingbadeuni: 킹받으니까 kingbadeunikka: Contrast 킹받지만 kingbatjiman: 킹받는데 kingbanneunde: 킹받더니 kingbatdeoni: Conjunction 킹받고 kingbatgo: Condition 킹받으면 kingbadeumyeon: 킹받아야 kingbadaya: Motive 킹받으려고 kingbadeuryeogo: Noun and determiner forms; Verbal ...', 'score': 0.97378, 'raw_content': None}, {'title': 'Google Translate', 'url': 'https://translate.google.com.pk/', 'content': \"Google's service, offered free of charge, instantly translates words, phrases, and web pages between English and over 100 other languages.\", 'score': 0.96531, 'raw_content': None}, {'title': 'What is the meaning of \"킹받아\"? - Question about Korean | HiNative', 'url': 'https://hinative.com/questions/25371037', 'content': '킹받아 (king-bad-a) Definition of 킹받아 킹받아=열받아=I\\'m pissed off \"열 heat\"를 \"킹 king\"으로 바꿔쓰는 밈이 있어유 유행한지 몇 달 됐는데 지금도 많이 쓰여유 ... 너무 킹받아서 그런 말을 했어. (Aku sangat marah jadi berkata seperti itu.) 2. A: 오늘 회의에서 내 의견을 왜 ...', 'score': 0.94576, 'raw_content': None}, {'title': 'How would you translate the slang 킹받아 into English?', 'url': 'https://www.reddit.com/r/Korean/comments/17o8fuo/how_would_you_translate_the_slang_킹받아_into_english/', 'content': \"킹받아 is originated from 열받아 (meaning you got angry, though literally it means get heated) and it has the exact same meaning with 열받아. You just replaced 열 to 킹 (king), and it's more like internet slang rather than widely accepted expression, so older native Koreans may not understand it. Sometimes, people use those 킹 (king ...\", 'score': 0.93927, 'raw_content': None}, {'title': 'Anyone know what 킹받아 means? : r/Korean - Reddit', 'url': 'https://www.reddit.com/r/Korean/comments/qn9i3a/anyone_know_what_킹받아_means/', 'content': 'I run a kpop fan channel and most of my viewer base is Korean, I am normally able to understand most of the comments but I see 킹 받아 in a lot of them not knowing what it means and papago just tells me its \"receive the king\" which i highly doubt. Example comment being: 메건 킹받겠네 ㅋㅋㅋㅋ. The original word is 열받다 \\'to get ...', 'score': 0.90898, 'raw_content': None}, {'title': '신조어 킹받다 킹받네 뜻, 유래, 킹정, 킹리적갓심, 꼴받다, 자만추 : 네이버 블로그', 'url': 'https://m.blog.naver.com/leeqdj/222383813237', 'content': '그 이상한 단어에 대해 살펴보려 합니다. 1. 킹받네 뜻, 킹받네 킹받다 유래. 존재하지 않는 이미지입니다. 입니다. 킹 (King)은 영어로 왕이란 뜻이죠. 킹받네로 쓰이고 있습니다. 킹받네였다고 합니다. 킹받네를 같이 사용하면서 퍼지기 시작했다고 합니다.', 'score': 0.94391, 'raw_content': None}, {'title': '[한국어 신조어] 킹받다/킹받네 뜻과 쓰임, 유래', 'url': 'https://nomadteacher.tistory.com/entry/한국어-신조어-킹받다킹받네-뜻과-쓰임-유래', 'content': \"[한국어 신조어] 자강두천 뜻 (사자성어 아님) 그럴듯해 보여서 무슨 사자성어로 오해받기 딱 좋은 단어, 자강두천. 그러나 이는 사자성어가 아닌 온라인상에서 유행처럼 쓰이는 신조어입니다. 자강두천이란? '자존심 강한 두 천재의 대결'의. nomadteacher.tistory.com\", 'score': 0.92559, 'raw_content': None}, {'title': '킹받네, 킹받는다 뜻과 유래 - 밈과 드립', 'url': 'https://everymemes.tistory.com/317', 'content': \"그렇다면 과연 이 말은 무슨 뜻이고 어디에서 유래되었는지 한번 알아보도록 하겠습니다. 킹받네, 킹받는다 뜻 먼저 '킹받네', '킹받는다'의 뜻은 각각 '열받네', '열받는다'입니다. 둘 다 열이라는 글자를 킹으로 치환한 것으로 어떤 일에 화가 나거나 흥분을 해서 ...\", 'score': 0.90798, 'raw_content': None}, {'title': '킹받다 - Wiktionary, the free dictionary', 'url': 'https://en.wiktionary.org/wiki/킹받다', 'content': '킹받아서 kingbadaseo: 킹받으니 kingbadeuni: 킹받으니까 kingbadeunikka: Contrast 킹받지만 kingbatjiman: 킹받는데 kingbanneunde: 킹받더니 kingbatdeoni: Conjunction 킹받고 kingbatgo: Condition 킹받으면 kingbadeumyeon: 킹받아야 kingbadaya: Motive 킹받으려고 kingbadeuryeogo: Noun and determiner forms; Verbal ...', 'score': 0.90666, 'raw_content': None}, {'title': '킹받네 뜻/킹받네 유래 A to Z [신조어 바로알기] - 청영', 'url': 'https://motioneffect.tistory.com/entry/킹받네-뜻킹받네-유래-A-to-Z-신조어-바로알기', 'content': \"킹받네 뜻/유래 뇌절, 레게노, 킹받네, 킹리적 갓심 등은 모두 최근 유행되고 있는 신조어 중 하나로, 특히 '킹받네'와 '킹리적 갓심'은 둘 다 왕 또는 어떤 부문에서 으뜸을 나타내는 king(킹)에서 파생된 대표단어라 할 수 있습니다. 온라인상에서 신조어가 생겨나는 것이 하루 이틀 일은 아니지만 ...\", 'score': 0.90045, 'raw_content': None}]\n",
      "[{'title': 'What does 어쩔티비 mean? : r/Korean - Reddit', 'url': 'https://www.reddit.com/r/Korean/comments/ut45u6/what_does_어쩔티비_mean/', 'content': 'What does 어쩔티비 mean? It\\'s like taunting, \"So what?\". \"What do you want me to do about it? Go watch TV.\". \"어쩌라고? 가서 티비나봐.\". The slangs are getting more and more ridiculous by the year and they come and go. For some reason, I am seeing discussions of slang more often in variety shows in the last few ...', 'score': 0.95628, 'raw_content': None}, {'title': 'What Is \"어쩔티비\"? | Korean Slang #5 - YouTube', 'url': 'https://www.youtube.com/watch?v=ot3LOoqnWsk', 'content': 'Visit our YouTube Channel: https://www.youtube.com/channel/UCILHzpdjtcy7ichWjQfBDOw/featured?disable_polymer=1Visit our online Korean tutoring platform: http...', 'score': 0.93802, 'raw_content': None}, {'title': '어쩔티비 slang term : r/Korean - Reddit', 'url': 'https://www.reddit.com/r/Korean/comments/q97crt/어쩔티비_slang_term/', 'content': \"fun fact: the internet tells me there are 2 ways of responding if someone says 어쩔티비 to you. one is to add a different appliance at the end, e.g. 어쩔세탁기; the other is to say 저쩔티비 lmao I haven't tested this since I'm not exactly the demographic that uses this slang though so take it with a grain of salt! 30. Reply. true.\", 'score': 0.93371, 'raw_content': None}, {'title': '어쩔티비 - 위키백과, 우리 모두의 백과사전', 'url': 'https://ko.wikipedia.org/wiki/어쩔티비', 'content': '어쩔티비. 어쩔티비 는 대한민국 의 신조어이다. 주로 어린이 들이 상대방이 듣기 싫은 말을 했을 때 사용하는 표현으로 정확한 유래는 없지만 대부분 \"어쩌라고 티비나 봐\"의 줄임말이라 알려졌다. [1] 상대방이 어쩔티비라고 말했을 때 저쩔티비라고 받아치기도 ...', 'score': 0.9249, 'raw_content': None}, {'title': '어쩔tv - 나무위키', 'url': 'https://namu.wiki/w/어쩔TV', 'content': \"어감 자체가 결국 상대방이 이야기하는 것을 차단함과 동시에 더 이상 듣기 싫다는 의미는 물론 조롱의 의미도 함께 담고 있다. 일단 '어쩔TV'라는 이름의 실제 방송 채널은 이 말이 유행하기 시작한 시점에는 유튜브 등을 뒤져봐도 존재하지 않았다. 그래서 아래 ...\", 'score': 0.9027, 'raw_content': None}, {'title': '어쩔티비 뜻과 유래 (feat. 대처법) - 밈과 드립', 'url': 'https://everymemes.tistory.com/365', 'content': \"어쩔티비 뜻 어쩌라고라는 말입니다. 주로 상대방의 말에 대답하기 싫거나 귀찮을 때, 그냥 상대방을 짜증나게 하고 싶을때 사용하는 말로 '어쩌라고'와 같은 의미이기 때문에 듣는 사람을 확실히 짜증나게 할 수 있습니다. 어쩔티비 유래 어쩔티비 유래는 보시다시피 트위터에 올라온 트위터 글들로 ...\", 'score': 0.97515, 'raw_content': None}, {'title': '어쩔tv - 나무위키', 'url': 'https://namu.wiki/w/어쩔TV', 'content': '어쩔TV. 1. 개요 [편집] 2021년 하반기에 유명해진 유행어 다. Assertive. 2. 기원 [편집] 신조어 중에서는 드물게 기원이 상당히 불분명한 편이다. 해당 신조어의 기원은 10대 초중반에서 시작되었다가 커뮤니티 등지와 유튜브 방송 등으로 점차 퍼져나가면서 밈화 ...', 'score': 0.96433, 'raw_content': None}, {'title': '어쩔티비 - 위키백과, 우리 모두의 백과사전', 'url': 'https://ko.wikipedia.org/wiki/어쩔티비', 'content': '어쩔티비. 어쩔티비 는 대한민국 의 신조어이다. 주로 어린이 들이 상대방이 듣기 싫은 말을 했을 때 사용하는 표현으로 정확한 유래는 없지만 대부분 \"어쩌라고 티비나 봐\"의 줄임말이라 알려졌다. [1] 상대방이 어쩔티비라고 말했을 때 저쩔티비라고 받아치기도 ...', 'score': 0.96157, 'raw_content': None}, {'title': '어쩔티비 뜻과 유래 (+어쩔티비 모음) - 잼늬 블로그', 'url': 'https://whitefaceone.tistory.com/2494', 'content': '어쩔티비 뜻 어쩌라고, 어쩔건데, 안물어봤는데 등의 의미입니다. 상대방이 귀찮게 하거나 대답하기 곤란한 질문을 했을 경우에 하는 말로 상대방을 도발하는 의미입니다. 킹받거나 꼴받게 만들어서 그런 질문을 한 상대방을 응징하는 방법입니다. 어쩔티비 유래 2021년 부터 유튜브 및 커뮤니티 ...', 'score': 0.95043, 'raw_content': None}, {'title': \"'어쩔티비'가 무슨 뜻? 신조어엔 재미·세태 담겨있다-국민일보\", 'url': 'https://www.kmib.co.kr/article/view.asp?arcid=0924229153', 'content': \"최근 배우 신혜선이 쿠팡플레이에서 방영되는 코미디쇼 'SNL 코리아'에 출연해 화제를 모은 단어 '어쩔티비', 이제 어떤 뜻인지 아시나요? '어쩌라고 가서 티비나 봐'의 줄임말로 10대들이 듣기 싫은 말을 들을 때 대응법으로 써먹는 표현입니다.\", 'score': 0.93598, 'raw_content': None}]\n",
      "[{'title': '네이버 영어사전', 'url': 'https://en.dict.naver.com/', 'content': '미국/영국식 발음, 여러 종류의 출판사 사전 뜻풀이, 풍부한 유의어/반의어, 대표사전 설정 기능, 상세검색 기능, 영어 단어장 제공', 'score': 0.97566, 'raw_content': None}, {'title': 'The Meaning of Oppa, Hyung, Noona, Unnie, Sunbae and Hubae - 90 Day Korean', 'url': 'https://www.90daykorean.com/oppa-hyung-noona-unnie/', 'content': 'The direct translations for oppa, hyung, nuna, and unnie are: Oppa meaning: older brother. Hyung meaning: older brother. Nuna meaning: older sister. Unnie meaning: older sister. At first glance, oppa and hyung and nuna and unnie have the same translation. However, the actual meanings are quite different than the translations in English.', 'score': 0.96022, 'raw_content': None}, {'title': 'Google Translate', 'url': 'https://translate.google.com.pk/', 'content': \"Google's service, offered free of charge, instantly translates words, phrases, and web pages between English and over 100 other languages.\", 'score': 0.94866, 'raw_content': None}, {'title': 'A Guide to Understanding Gender Identity and Pronouns : NPR', 'url': 'https://www.npr.org/2021/06/02/996319297/gender-identity-pronouns-expression-guide-lgbtq', 'content': '\"\\n\"So, for example, using the correct pronouns for trans and nonbinary youth is a way to let them know that you see them, you affirm them, you accept them and to let them know that they\\'re loved during a time when they\\'re really being targeted by so many discriminatory anti-trans state laws and policies,\" O\\'Hara says.\\n Jump to a term: Sex, gender, gender identity, gender expression, cisgender, transgender, nonbinary, agender, gender-expansive, gender transition, gender dysphoria, sexual orientation, intersex\\nJump to Pronouns: questions and answers\\nSex refers to a person\\'s biological status and is typically assigned at birth, usually on the basis of external anatomy. \"Sometimes Americans look at a name and are like, \\'I have no idea if I\\'m supposed to say he or she for this name\\' — not because the person\\'s trans, but just because the name is of a culture that you don\\'t recognize and you genuinely do not know. Alex Schmider, associate director of transgender representation at GLAAD, compares using someone\\'s correct pronouns to pronouncing their name correctly – \"a way of respecting them and referring to them in a way that\\'s consistent and true to who they are. \"\\nMight some people be uncomfortable sharing their pronouns in a public setting?\\nSchmider says for cisgender people, sharing their pronouns is generally pretty easy – so long as they recognize that they have pronouns and know what they are.', 'score': 0.94817, 'raw_content': None}, {'title': 'How do you say \"배 째라!\" in English (US)? | HiNative', 'url': 'https://hinative.com/questions/16052476', 'content': \"될대로 되라지 means like « just let it happen? » kinda like « let it be ». i'm thinking.. maybe you mean « fuck it? » which is like « i don't care what happens anymore, i'll just do it ». See a translation.\", 'score': 0.93469, 'raw_content': None}, {'title': 'Google Translate - Google 번역', 'url': 'https://translate.google.co.kr/?hl=en&tab=wT', 'content': \"Google's service, offered free of charge, instantly translates words, phrases, and web pages between English and over 100 other languages.\", 'score': 0.94005, 'raw_content': None}, {'title': '배째 - 나무위키', 'url': 'https://namu.wiki/w/배째', 'content': '스타크래프트 와 같은 RTS 게임에서의 용어 \"배째기\"는 주로 병력 생산을 거의 안 하거나 혹은 아예 하지 않은 채 확장 기지 (멀티)를 빠르게 가져가는 것 (선앞마당, 생더블 / 등)을 뜻한다. [2] 배째기를 하게 된다면, 초반 전략의 위험성을 감수하고 부자스럽게 ...', 'score': 0.92247, 'raw_content': None}, {'title': '\"배 째라는 식\"은(는) 무슨 뜻인가요? 한국어 질문 | HiNative', 'url': 'https://ko.hinative.com/questions/16581014', 'content': '배 째라는 식 (bae jjae-ra-neun sig) 배 째라는 식의 정의 째다: 뭔가를 가르거나 하는 일 사람의 배를 째면 죽잖아요. 자기 의견이 맘에 안 들면 자기 배를 째라고 하는 거에요. 그럼 상대가 살인을 할 수는 없으니 의견을 들어주겠죠. 결국 (자기 의견을 위해서) 고집을 엄청나게 부린다는 뜻이에요. ex) A ...', 'score': 0.91049, 'raw_content': None}, {'title': '네이버 사전 (NAVER dictionary)', 'url': 'https://dict.naver.com/?frm=nt/', 'content': '영어, 국어, 한자, 일본어, 중국어를 포함한 67종 언어로 총 3000만 표제어를 제공하는 네이버사전', 'score': 0.90533, 'raw_content': None}, {'title': '\"배째\"은(는) 무슨 뜻인가요? 한국어 질문 | HiNative', 'url': 'https://ko.hinative.com/questions/11235129', 'content': '이것을 어떻게 말해요? 이것은 무슨 뜻인가요? 차이점이 무엇인가요? ~~이 포함된 표현을 알려 주세요. 자유로운 질문. 배째 (bae-jjae) 배째의 정의 배를 칼 같은 날카로운 것으로 가르다|Корейские саркастические замечания 그래서 뭐? 어쩌고싶은데?', 'score': 0.90523, 'raw_content': None}]\n",
      "[{'title': 'What is the meaning of \"할많하않\"? - Question about Korean', 'url': 'https://hinative.com/questions/25027296', 'content': 'Korean phrase \\'할많하않\\' is an informal expression that can be translated as \"not much to do\" or \"not much going on.\" It is commonly used to convey a sense of boredom or a lack of excitement in one\\'s daily life. Here are help illustrate its meaning and usage: 1. Situation: A friend asks you how your weekend was.', 'score': 0.95597, 'raw_content': None}, {'title': 'What is the meaning of \"\"할많하않\" how should I ... - HiNative', 'url': 'https://hinative.com/questions/18757290', 'content': 'Definition of \"할많하않\" how should I translate this to English but like in the easiest, shortest form what about this; much to say, no comment though. it\\'s difficult to shorten it in english.', 'score': 0.93759, 'raw_content': None}, {'title': 'Yook Sungjae\\'s Song \"HMHN\" (할많하않): What Does It Mean?', 'url': 'https://www.hankooki.com/news/articleView.html?idxno=149700', 'content': 'These poignant words form the backbone of \"할많하않 (HMHN - Hal Man Ha An),\" a hit track released in 2020 by BTOB\\'s Yook Sungjae. The song\\'s title, an acronym for the Korean phrase meaning \"I have a lot to say, but I won\\'t say it,\" is colloquially simplified to \"할말하않 (Hal Man Ha An)\" for its ease of pronunciation. Image by Ha Yu-mi.', 'score': 0.93337, 'raw_content': None}, {'title': '할많하않 - Wiktionary, the free dictionary', 'url': 'https://en.wiktionary.org/wiki/할많하않', 'content': \"할많하않 • (halmanhaan) ( Internet slang, text messaging) Used to state that one won't state one's thoughts due to the situation being futile or due to annoyance or frustration with the listener. Categories: Korean abbreviations. Korean terms with IPA pronunciation. Korean lemmas. Korean interjections.\", 'score': 0.92543, 'raw_content': None}, {'title': 'What is the meaning of \"할많하않\"? - Question about Korean', 'url': 'https://hinative.com/questions/16871161', 'content': \"할많하않 (har-manh-ha-anh) Definition of 할많하않 '할 말은 많지만 하지 않는다' 라는 뜻입니다. 답답하고, 따지고 싶은데, 차마 다 말할 수 없어서(설명하기 싫거나 귀찮아서) 그냥 입을 닫을 때 사용해요!\", 'score': 0.9171, 'raw_content': None}, {'title': '할많하않, 할말하않 뜻 알아보기 - 밈과 드립', 'url': 'https://everymemes.tistory.com/126', 'content': \"과연 '할많하않'과 '할말하않'은 어떤 뜻을 가지고 있는지 지금부터 저와 함께 알아보도록 하죠. 할많하않 .. 개인적으로 본 블로그에 다양한 밈과 드립, 그리고 신조어나 유행어들을 소개해드리고 있는데요, 처음 블로그를 시작했을때는 어느순간 과거의 밈이나 ...\", 'score': 0.97889, 'raw_content': None}, {'title': '할많하않·할말하않 뜻과 유래 (고요 속의 외침)', 'url': 'https://whitefaceone.tistory.com/2030', 'content': \"할많하않·할말하않 뜻 할많하않: '할 말은 많지만 하지 않는다' 할말하않: '할 말은 많지만 하지 않는다' 할말하않과 할말하않은 '할 말은 많지만 하지 않는다'의 줄임말으로서 같은 뜻입니다. 관심이 있는 주제이지만 너무 말이 길어질 것 같을 때 사용거나 지적하고 싶지만 분쟁이 발생할 것 같아서 ...\", 'score': 0.96503, 'raw_content': None}, {'title': '[잠깐상식] `할많하않` 무슨뜻? Sns와 뉴스 댓글 등에 많이 쓰이던데? - 매일신문', 'url': 'https://www.imaeil.com/page/view/2018071815361564844', 'content': \"'할많하않'이라는 신조어에 대한 기성세대의 관심이 높다. 이 말이 SNS와 뉴스 댓글 등에 자주 쓰이면서 뜻을 궁금해하는 것.\", 'score': 0.95708, 'raw_content': None}, {'title': '할많하않 - Wiktionary, the free dictionary', 'url': 'https://en.m.wiktionary.org/wiki/할많하않', 'content': \"할많하않 • (halmanhaan) ( Internet slang, text messaging) Used to state that one won't state one's thoughts due to the situation being futile or due to annoyance or frustration with the listener. Categories: Korean abbreviations. Korean terms with IPA pronunciation. Korean lemmas. Korean interjections.\", 'score': 0.91452, 'raw_content': None}, {'title': '할많하않 vs 할말하않 뜻과 유래 이게 뭐야? 황당한 신조어(ft.나는솔로10기영자오이) : 네이버 블로그', 'url': 'https://blog.naver.com/PostView.nhn?blogId=schwabingstory&logNo=222866638556', 'content': \"존재하지 않는 이미지입니다. . 2015년에 탄생한 '할많하않' 신조어는. 수많은 밈현상을 유행시켰고 짤영상도 많이 생성되었다. . 시간이 지나면서 유래가 나쁜 감정을 정리하는 표현으로 쓰이다 보니, 부정적인 쪽으로 감정 표현을 하는 것으로 유래로 정리 ...\", 'score': 0.90922, 'raw_content': None}]\n"
     ]
    }
   ],
   "source": [
    "context = []\n",
    "for word in new_list:\n",
    "    context_eng = tavily.search(query=\"What is meaing \" + word, search_depth=\"advanced\")['results']\n",
    "    context_kor = tavily.search(query=word + \" 무슨 뜻\", search_depth=\"advanced\")['results']\n",
    "    context += context_eng + context_kor\n",
    "\n",
    "print(context)"
   ]
  }
 ],
 "metadata": {
  "kernelspec": {
   "display_name": "Python 3 (ipykernel)",
   "language": "python",
   "name": "python3"
  },
  "language_info": {
   "codemirror_mode": {
    "name": "ipython",
    "version": 3
   },
   "file_extension": ".py",
   "mimetype": "text/x-python",
   "name": "python",
   "nbconvert_exporter": "python",
   "pygments_lexer": "ipython3",
   "version": "3.11.7"
  }
 },
 "nbformat": 4,
 "nbformat_minor": 5
}
